{
 "cells": [
  {
   "attachments": {},
   "cell_type": "markdown",
   "metadata": {},
   "source": [
    "# Imports"
   ]
  },
  {
   "cell_type": "code",
   "execution_count": 9,
   "metadata": {},
   "outputs": [],
   "source": [
    "import pandas as pd\n",
    "import numpy as np\n",
    "\n",
    "import world_trade_data as wits\n",
    "\n",
    "from tqdm import tqdm"
   ]
  },
  {
   "cell_type": "code",
   "execution_count": 2,
   "metadata": {},
   "outputs": [],
   "source": [
    "# df_import_share = wits.get_indicator('MPRT-PRTNR-SHR', reporter=reporter, year=year, name_or_id='name', partner='all').reset_index().sort_values(by='Value', ascending=False)\n",
    "# df_export_share = wits.get_indicator('XPRT-PRTNR-SHR', reporter=reporter, year=year, name_or_id='name', partner='all').reset_index().sort_values(by='Value', ascending=False)"
   ]
  },
  {
   "cell_type": "code",
   "execution_count": 3,
   "metadata": {},
   "outputs": [],
   "source": [
    "# df_import_share = df_import_share.query(\"Partner not in @regions\")[['Partner', 'Value']]\n",
    "# df_export_share = df_export_share.query(\"Partner not in @regions\")[['Partner', 'Value']]"
   ]
  },
  {
   "attachments": {},
   "cell_type": "markdown",
   "metadata": {},
   "source": [
    "# Initialise Variables and Parameters"
   ]
  },
  {
   "cell_type": "code",
   "execution_count": 11,
   "metadata": {},
   "outputs": [],
   "source": [
    "countries = wits.get_countries()\n",
    "\n",
    "regions = list(countries[countries.grouptype == 'Region']['name'].values)\n",
    "regions.extend([region.replace('&', 'and') for region in regions if '&' in region])\n",
    "\n",
    "countries = countries[countries.grouptype != 'Region']\n",
    "\n",
    "year = '2019'\n",
    "error_countries = []"
   ]
  },
  {
   "attachments": {},
   "cell_type": "markdown",
   "metadata": {},
   "source": [
    "# Collect Trade Data (and Write to Disk)"
   ]
  },
  {
   "cell_type": "code",
   "execution_count": 12,
   "metadata": {},
   "outputs": [
    {
     "name": "stderr",
     "output_type": "stream",
     "text": [
      "100%|██████████| 258/258 [14:40<00:00,  3.41s/it]\n"
     ]
    }
   ],
   "source": [
    "for reporter in tqdm(countries.index.values):\n",
    "    try:\n",
    "                \n",
    "        df_import = wits.get_indicator('MPRT-TRD-VL', reporter=reporter, year=year, name_or_id='name', partner='all').reset_index()\n",
    "        df_export = wits.get_indicator('XPRT-TRD-VL', reporter=reporter, year=year, name_or_id='name', partner='all').reset_index()\n",
    "\n",
    "        df_import = df_import.groupby('Partner').sum().sort_values(by = 'Value', ascending=False).reset_index()\n",
    "        df_export = df_export.groupby('Partner').sum().sort_values(by = 'Value', ascending=False).reset_index()\n",
    "\n",
    "        df_import = df_import.query(\"Partner not in @regions\")\n",
    "        df_export = df_export.query(\"Partner not in @regions\")\n",
    "\n",
    "        df = pd.concat([df_import, df_export]).groupby('Partner')['Value'].sum().reset_index().set_index('Partner')\n",
    "\n",
    "        df.to_csv(f'Country Trade Data/{reporter}.csv')\n",
    "    except:\n",
    "        error_countries.append(reporter)\n",
    "    "
   ]
  },
  {
   "attachments": {},
   "cell_type": "markdown",
   "metadata": {},
   "source": [
    "# Write Errors to Disk"
   ]
  },
  {
   "cell_type": "code",
   "execution_count": 18,
   "metadata": {},
   "outputs": [],
   "source": [
    "with open('error_countries.npy', 'wb') as f:\n",
    "    np.save(f, np.array(error_countries))"
   ]
  },
  {
   "attachments": {},
   "cell_type": "markdown",
   "metadata": {},
   "source": [
    "# Collate Data"
   ]
  },
  {
   "cell_type": "code",
   "execution_count": 45,
   "metadata": {},
   "outputs": [],
   "source": [
    "import os\n",
    "final_df = pd.DataFrame()"
   ]
  },
  {
   "cell_type": "code",
   "execution_count": 47,
   "metadata": {},
   "outputs": [
    {
     "data": {
      "text/html": [
       "<div>\n",
       "<style scoped>\n",
       "    .dataframe tbody tr th:only-of-type {\n",
       "        vertical-align: middle;\n",
       "    }\n",
       "\n",
       "    .dataframe tbody tr th {\n",
       "        vertical-align: top;\n",
       "    }\n",
       "\n",
       "    .dataframe thead th {\n",
       "        text-align: right;\n",
       "    }\n",
       "</style>\n",
       "<table border=\"1\" class=\"dataframe\">\n",
       "  <thead>\n",
       "    <tr style=\"text-align: right;\">\n",
       "      <th></th>\n",
       "      <th>Source</th>\n",
       "      <th>Target</th>\n",
       "      <th>Weight</th>\n",
       "    </tr>\n",
       "  </thead>\n",
       "  <tbody>\n",
       "    <tr>\n",
       "      <th>0</th>\n",
       "      <td>Aruba</td>\n",
       "      <td>Brazil</td>\n",
       "      <td>9.922368e+04</td>\n",
       "    </tr>\n",
       "    <tr>\n",
       "      <th>1</th>\n",
       "      <td>Aruba</td>\n",
       "      <td>China</td>\n",
       "      <td>1.807202e+05</td>\n",
       "    </tr>\n",
       "    <tr>\n",
       "      <th>2</th>\n",
       "      <td>Aruba</td>\n",
       "      <td>Colombia</td>\n",
       "      <td>1.517809e+05</td>\n",
       "    </tr>\n",
       "    <tr>\n",
       "      <th>3</th>\n",
       "      <td>Aruba</td>\n",
       "      <td>Curaçao</td>\n",
       "      <td>1.266897e+05</td>\n",
       "    </tr>\n",
       "    <tr>\n",
       "      <th>4</th>\n",
       "      <td>Aruba</td>\n",
       "      <td>Korea, Rep.</td>\n",
       "      <td>6.276485e+04</td>\n",
       "    </tr>\n",
       "    <tr>\n",
       "      <th>...</th>\n",
       "      <td>...</td>\n",
       "      <td>...</td>\n",
       "      <td>...</td>\n",
       "    </tr>\n",
       "    <tr>\n",
       "      <th>28786</th>\n",
       "      <td>Zimbabwe</td>\n",
       "      <td>United States Minor Outlying I</td>\n",
       "      <td>8.586520e+01</td>\n",
       "    </tr>\n",
       "    <tr>\n",
       "      <th>28787</th>\n",
       "      <td>Zimbabwe</td>\n",
       "      <td>Unspecified</td>\n",
       "      <td>3.083542e+06</td>\n",
       "    </tr>\n",
       "    <tr>\n",
       "      <th>28788</th>\n",
       "      <td>Zimbabwe</td>\n",
       "      <td>Uruguay</td>\n",
       "      <td>1.914964e+03</td>\n",
       "    </tr>\n",
       "    <tr>\n",
       "      <th>28789</th>\n",
       "      <td>Zimbabwe</td>\n",
       "      <td>Vietnam</td>\n",
       "      <td>1.305147e+03</td>\n",
       "    </tr>\n",
       "    <tr>\n",
       "      <th>28790</th>\n",
       "      <td>Zimbabwe</td>\n",
       "      <td>Zambia</td>\n",
       "      <td>6.626857e+05</td>\n",
       "    </tr>\n",
       "  </tbody>\n",
       "</table>\n",
       "<p>28791 rows × 3 columns</p>\n",
       "</div>"
      ],
      "text/plain": [
       "         Source                          Target        Weight\n",
       "0         Aruba                          Brazil  9.922368e+04\n",
       "1         Aruba                           China  1.807202e+05\n",
       "2         Aruba                        Colombia  1.517809e+05\n",
       "3         Aruba                         Curaçao  1.266897e+05\n",
       "4         Aruba                     Korea, Rep.  6.276485e+04\n",
       "...         ...                             ...           ...\n",
       "28786  Zimbabwe  United States Minor Outlying I  8.586520e+01\n",
       "28787  Zimbabwe                     Unspecified  3.083542e+06\n",
       "28788  Zimbabwe                         Uruguay  1.914964e+03\n",
       "28789  Zimbabwe                         Vietnam  1.305147e+03\n",
       "28790  Zimbabwe                          Zambia  6.626857e+05\n",
       "\n",
       "[28791 rows x 3 columns]"
      ]
     },
     "execution_count": 47,
     "metadata": {},
     "output_type": "execute_result"
    }
   ],
   "source": [
    "for subdir, dirs, files in os.walk('Country Trade Data'):\n",
    "    for file in files:\n",
    "        filepath = subdir + os.sep + file\n",
    "\n",
    "        if filepath.endswith(\".csv\"):\n",
    "            df = pd.read_csv(filepath)\n",
    "            df = df.rename(columns={\"Partner\":\"Target\", \"Value\":\"Weight\"})\n",
    "            df['Source'] = countries.loc[file.split('.')[0]]['name']\n",
    "            df = df[['Source','Target', 'Weight']]\n",
    "            final_df = pd.concat([final_df, df], ignore_index=True)\n",
    "            # print (filepath)\n",
    "final_df"
   ]
  },
  {
   "cell_type": "code",
   "execution_count": 50,
   "metadata": {},
   "outputs": [],
   "source": [
    "final_df.to_csv('edges.csv', index=False)"
   ]
  }
 ],
 "metadata": {
  "kernelspec": {
   "display_name": "Python 3.8.11 ('base')",
   "language": "python",
   "name": "python3"
  },
  "language_info": {
   "codemirror_mode": {
    "name": "ipython",
    "version": 3
   },
   "file_extension": ".py",
   "mimetype": "text/x-python",
   "name": "python",
   "nbconvert_exporter": "python",
   "pygments_lexer": "ipython3",
   "version": "3.8.11 (default, Aug  6 2021, 09:57:55) [MSC v.1916 64 bit (AMD64)]"
  },
  "orig_nbformat": 4,
  "vscode": {
   "interpreter": {
    "hash": "ad2bdc8ecc057115af97d19610ffacc2b4e99fae6737bb82f5d7fb13d2f2c186"
   }
  }
 },
 "nbformat": 4,
 "nbformat_minor": 2
}
