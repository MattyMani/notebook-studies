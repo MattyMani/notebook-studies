{
 "cells": [
  {
   "cell_type": "markdown",
   "metadata": {},
   "source": [
    "# COMM054 - Revised Version (Recalling Past Work)"
   ]
  },
  {
   "cell_type": "markdown",
   "metadata": {},
   "source": [
    "## Loading ATLAS Data and Labels"
   ]
  },
  {
   "cell_type": "code",
   "execution_count": 5,
   "metadata": {},
   "outputs": [
    {
     "data": {
      "text/html": [
       "<div>\n",
       "<style scoped>\n",
       "    .dataframe tbody tr th:only-of-type {\n",
       "        vertical-align: middle;\n",
       "    }\n",
       "\n",
       "    .dataframe tbody tr th {\n",
       "        vertical-align: top;\n",
       "    }\n",
       "\n",
       "    .dataframe thead th {\n",
       "        text-align: right;\n",
       "    }\n",
       "</style>\n",
       "<table border=\"1\" class=\"dataframe\">\n",
       "  <thead>\n",
       "    <tr style=\"text-align: right;\">\n",
       "      <th></th>\n",
       "      <th>243.128</th>\n",
       "      <th>96.455</th>\n",
       "      <th>158.618</th>\n",
       "      <th>90.253</th>\n",
       "      <th>0.693</th>\n",
       "      <th>56.238</th>\n",
       "      <th>1.581</th>\n",
       "      <th>3.615</th>\n",
       "      <th>13.597</th>\n",
       "      <th>264.586</th>\n",
       "      <th>...</th>\n",
       "      <th>72.877</th>\n",
       "      <th>2.121</th>\n",
       "      <th>376.41</th>\n",
       "      <th>46.248</th>\n",
       "      <th>-0.958</th>\n",
       "      <th>-0.444</th>\n",
       "      <th>42.759</th>\n",
       "      <th>-1.651</th>\n",
       "      <th>-1.445</th>\n",
       "      <th>157.638</th>\n",
       "    </tr>\n",
       "  </thead>\n",
       "  <tbody>\n",
       "    <tr>\n",
       "      <th>0</th>\n",
       "      <td>139.751</td>\n",
       "      <td>74.028</td>\n",
       "      <td>111.619</td>\n",
       "      <td>44.266</td>\n",
       "      <td>2.119</td>\n",
       "      <td>104.723</td>\n",
       "      <td>-0.498</td>\n",
       "      <td>2.533</td>\n",
       "      <td>9.437</td>\n",
       "      <td>168.638</td>\n",
       "      <td>...</td>\n",
       "      <td>20.147</td>\n",
       "      <td>0.447</td>\n",
       "      <td>252.698</td>\n",
       "      <td>36.798</td>\n",
       "      <td>0.269</td>\n",
       "      <td>-1.254</td>\n",
       "      <td>31.816</td>\n",
       "      <td>-1.849</td>\n",
       "      <td>0.664</td>\n",
       "      <td>68.614</td>\n",
       "    </tr>\n",
       "    <tr>\n",
       "      <th>1</th>\n",
       "      <td>116.217</td>\n",
       "      <td>73.136</td>\n",
       "      <td>59.239</td>\n",
       "      <td>101.850</td>\n",
       "      <td>0.625</td>\n",
       "      <td>85.539</td>\n",
       "      <td>2.979</td>\n",
       "      <td>1.922</td>\n",
       "      <td>28.049</td>\n",
       "      <td>202.636</td>\n",
       "      <td>...</td>\n",
       "      <td>68.144</td>\n",
       "      <td>1.816</td>\n",
       "      <td>271.485</td>\n",
       "      <td>82.453</td>\n",
       "      <td>2.066</td>\n",
       "      <td>-1.210</td>\n",
       "      <td>58.216</td>\n",
       "      <td>1.442</td>\n",
       "      <td>-2.288</td>\n",
       "      <td>140.669</td>\n",
       "    </tr>\n",
       "    <tr>\n",
       "      <th>2</th>\n",
       "      <td>64.544</td>\n",
       "      <td>0.099</td>\n",
       "      <td>28.945</td>\n",
       "      <td>341.418</td>\n",
       "      <td>2.390</td>\n",
       "      <td>358.936</td>\n",
       "      <td>-1.181</td>\n",
       "      <td>0.714</td>\n",
       "      <td>35.293</td>\n",
       "      <td>508.349</td>\n",
       "      <td>...</td>\n",
       "      <td>243.099</td>\n",
       "      <td>-2.409</td>\n",
       "      <td>470.806</td>\n",
       "      <td>331.152</td>\n",
       "      <td>-1.693</td>\n",
       "      <td>0.615</td>\n",
       "      <td>41.742</td>\n",
       "      <td>0.697</td>\n",
       "      <td>1.083</td>\n",
       "      <td>409.977</td>\n",
       "    </tr>\n",
       "    <tr>\n",
       "      <th>3</th>\n",
       "      <td>32.281</td>\n",
       "      <td>67.393</td>\n",
       "      <td>26.006</td>\n",
       "      <td>29.088</td>\n",
       "      <td>1.330</td>\n",
       "      <td>108.191</td>\n",
       "      <td>-0.362</td>\n",
       "      <td>0.846</td>\n",
       "      <td>48.389</td>\n",
       "      <td>152.087</td>\n",
       "      <td>...</td>\n",
       "      <td>32.186</td>\n",
       "      <td>-1.421</td>\n",
       "      <td>244.220</td>\n",
       "      <td>48.198</td>\n",
       "      <td>0.949</td>\n",
       "      <td>1.517</td>\n",
       "      <td>40.382</td>\n",
       "      <td>-0.382</td>\n",
       "      <td>-2.029</td>\n",
       "      <td>88.580</td>\n",
       "    </tr>\n",
       "    <tr>\n",
       "      <th>4</th>\n",
       "      <td>135.018</td>\n",
       "      <td>97.900</td>\n",
       "      <td>106.636</td>\n",
       "      <td>77.614</td>\n",
       "      <td>2.530</td>\n",
       "      <td>239.596</td>\n",
       "      <td>-1.207</td>\n",
       "      <td>2.698</td>\n",
       "      <td>66.300</td>\n",
       "      <td>320.620</td>\n",
       "      <td>...</td>\n",
       "      <td>21.931</td>\n",
       "      <td>1.605</td>\n",
       "      <td>257.142</td>\n",
       "      <td>96.266</td>\n",
       "      <td>0.638</td>\n",
       "      <td>2.543</td>\n",
       "      <td>45.109</td>\n",
       "      <td>-1.892</td>\n",
       "      <td>-1.956</td>\n",
       "      <td>184.771</td>\n",
       "    </tr>\n",
       "  </tbody>\n",
       "</table>\n",
       "<p>5 rows × 29 columns</p>\n",
       "</div>"
      ],
      "text/plain": [
       "   243.128  96.455  158.618   90.253  0.693   56.238  1.581  3.615  13.597  \\\n",
       "0  139.751  74.028  111.619   44.266  2.119  104.723 -0.498  2.533   9.437   \n",
       "1  116.217  73.136   59.239  101.850  0.625   85.539  2.979  1.922  28.049   \n",
       "2   64.544   0.099   28.945  341.418  2.390  358.936 -1.181  0.714  35.293   \n",
       "3   32.281  67.393   26.006   29.088  1.330  108.191 -0.362  0.846  48.389   \n",
       "4  135.018  97.900  106.636   77.614  2.530  239.596 -1.207  2.698  66.300   \n",
       "\n",
       "   264.586  ...   72.877  2.121   376.41   46.248  -0.958  -0.444  42.759  \\\n",
       "0  168.638  ...   20.147  0.447  252.698   36.798   0.269  -1.254  31.816   \n",
       "1  202.636  ...   68.144  1.816  271.485   82.453   2.066  -1.210  58.216   \n",
       "2  508.349  ...  243.099 -2.409  470.806  331.152  -1.693   0.615  41.742   \n",
       "3  152.087  ...   32.186 -1.421  244.220   48.198   0.949   1.517  40.382   \n",
       "4  320.620  ...   21.931  1.605  257.142   96.266   0.638   2.543  45.109   \n",
       "\n",
       "   -1.651  -1.445  157.638  \n",
       "0  -1.849   0.664   68.614  \n",
       "1   1.442  -2.288  140.669  \n",
       "2   0.697   1.083  409.977  \n",
       "3  -0.382  -2.029   88.580  \n",
       "4  -1.892  -1.956  184.771  \n",
       "\n",
       "[5 rows x 29 columns]"
      ]
     },
     "execution_count": 5,
     "metadata": {},
     "output_type": "execute_result"
    }
   ],
   "source": [
    "import pandas as pd\n",
    "import numpy as np\n",
    "import sklearn\n",
    "\n",
    "atlas_data = pd.read_csv('COMM054Dataset\\ATLAS-data.csv')\n",
    "atlas_labels = pd.read_csv('COMM054Dataset\\ATLAS-labels.csv')\n",
    "\n",
    "atlas_data.head()"
   ]
  },
  {
   "cell_type": "markdown",
   "metadata": {},
   "source": [
    "## Preprocessing Data"
   ]
  },
  {
   "cell_type": "code",
   "execution_count": 15,
   "metadata": {},
   "outputs": [],
   "source": [
    "from sklearn.preprocessing import StandardScaler\n",
    "from sklearn.feature_selection import SequentialFeatureSelector\n",
    "from sklearn.datasets import load_iris\n",
    "from sklearn.ensemble import RandomForestClassifier\n",
    "\n",
    "\n",
    "X, y = load_iris(return_X_y=True)"
   ]
  },
  {
   "cell_type": "code",
   "execution_count": 16,
   "metadata": {},
   "outputs": [
    {
     "data": {
      "text/plain": [
       "SequentialFeatureSelector(estimator=RandomForestClassifier(max_depth=2,\n",
       "                                                           random_state=0),\n",
       "                          n_features_to_select=3)"
      ]
     },
     "execution_count": 16,
     "metadata": {},
     "output_type": "execute_result"
    }
   ],
   "source": [
    "clf = RandomForestClassifier(max_depth=2, random_state=0)\n",
    "\n",
    "sfs = SequentialFeatureSelector(clf, n_features_to_select=3)\n",
    "\n",
    "sfs.fit(X,y)"
   ]
  },
  {
   "cell_type": "code",
   "execution_count": 17,
   "metadata": {},
   "outputs": [
    {
     "data": {
      "text/plain": [
       "array([ True, False,  True,  True])"
      ]
     },
     "execution_count": 17,
     "metadata": {},
     "output_type": "execute_result"
    }
   ],
   "source": [
    "sfs.get_support()"
   ]
  }
 ],
 "metadata": {
  "kernelspec": {
   "display_name": "Python 3",
   "language": "python",
   "name": "python3"
  },
  "language_info": {
   "codemirror_mode": {
    "name": "ipython",
    "version": 3
   },
   "file_extension": ".py",
   "mimetype": "text/x-python",
   "name": "python",
   "nbconvert_exporter": "python",
   "pygments_lexer": "ipython3",
   "version": "3.6.4"
  }
 },
 "nbformat": 4,
 "nbformat_minor": 2
}
